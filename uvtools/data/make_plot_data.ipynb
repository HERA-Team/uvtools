{
 "cells": [
  {
   "cell_type": "code",
   "execution_count": 3,
   "id": "1ba63888",
   "metadata": {},
   "outputs": [],
   "source": [
    "# make some mock data\n",
    "import hera_sim\n",
    "import copy\n",
    "import numpy as np\n",
    "# first, make an array\n",
    "antennas = hera_sim.antpos.hex_array(3)\n",
    "# now make a slightly offset array\n",
    "dx = lambda : np.random.random(3) * 0.1\n",
    "offset_ants = {ant : pos + dx() for ant, pos in antennas.items()}\n",
    "# now make an array with mismatched number of antennas\n",
    "bad_ants = hera_sim.antpos.hex_array(3, split_core=False)\n",
    "# choose two different integration times\n",
    "dt1 = 10.7\n",
    "dt2 = 15.3\n",
    "# choose two different channel widths\n",
    "df1 = 1e8 / 1024\n",
    "df2 = 2e8 / 1024\n",
    "# actually mock up the data\n",
    "sim = hera_sim.Simulator(n_freq=10, n_times=10,\n",
    "                                    antennas=antennas,\n",
    "                                    integration_time=dt1,\n",
    "                                    channel_width=df1)\n",
    "uvd1 = copy.deepcopy(sim.data)\n",
    "sim.add_eor(\"noiselike_eor\")\n",
    "uvd1.write_uvh5(\"uvd1.uvh5\")\n",
    "uvd2 = copy.deepcopy(sim.data)\n",
    "\n",
    "# now just make some things with metadata that will raise exceptions\n",
    "\n",
    "\n",
    "\n",
    "\n",
    "# choose an antenna pair and polarization for later\n",
    "#self.antpairpol = (0, 1, \"xx\")\n",
    "\n",
    "# make a simulation for the plot_diff_1d test\n",
    "sim = hera_sim.Simulator(\n",
    "\t\t\t n_freq=100, n_times=2, antennas=antennas\n",
    "\t\t\t )\n",
    "sim.add_eor(\"noiselike_eor\")\n",
    "#sim = copy.deepcopy(sim)\n",
    "sim.data.write_uvh5('noiselike_eor_diff.uvh5')\n",
    "\n",
    "\n",
    "# make some UVData objects collapsed along a single axis\n",
    "sim = hera_sim.Simulator(n_freq=10, n_times=1,\n",
    "                                    antennas=antennas,\n",
    "                                    integration_time=dt1,\n",
    "                                    channel_width=df1)\n",
    "sim.data.write_uvh5('uvd_1d_times.uvh5')\n",
    "#self.uvd_1d_times = copy.deepcopy(sim.data)\n",
    "\n",
    "sim = hera_sim.Simulator(n_freq=1, n_times=10,\n",
    "                                   antennas=antennas,\n",
    "                                   integration_time=dt1,\n",
    "                                   channel_width=df1)\n",
    "#uvd_1d_freqs = copy.deepcopy(sim.data)\n",
    "sim.data.write_uvh5('uvd_1d_freqs.uvh5')\n",
    "\n",
    "antennas_ = {0 : [0, 0, 0], 1 : [10, 0, 0]}\n",
    "sim = hera_sim.Simulator(n_freq=10, n_times=1,\n",
    "                                    antennas=antennas_,\n",
    "                                    integration_time=dt1,\n",
    "                                    channel_width=df1,\n",
    "                                    no_autos=True)\n",
    "#uvd_1d_uvws = copy.deepcopy(sim.data)\n",
    "sim.data.write_uvh5('uvd_1d_uvws.uvh5')"
   ]
  },
  {
   "cell_type": "code",
   "execution_count": null,
   "id": "6502b999",
   "metadata": {},
   "outputs": [],
   "source": [
    "\n",
    "# make the visibility units disagree\n",
    "sim.data.vis_units = 'mK'\n",
    "uvd_bad_vis_units = copy.deepcopy(sim.data)\n",
    "# mismatched baselines\n",
    "sim = hera_sim.Simulator(n_freq=10, n_times=10,\n",
    "                                    antennas=offset_ants,\n",
    "                                    integration_time=dt1,\n",
    "                                    channel_width=df1)\n",
    "uvd_bad_vis_units.write_uvh5('sim_bad_vis_units.uvh5')\n",
    "self.uvd_bad_bls = copy.deepcopy(sim.data)\n",
    "# wrong number of antennas\n",
    "sim = hera_sim.Simulator(n_freq=10, n_times=10,\n",
    "                                    antennas=bad_ants,\n",
    "                                    integration_time=dt1,\n",
    "                                    channel_width=df1)\n",
    "sim.data.write_uvh5('uvd_bad_ants.uvh5')\n",
    "#self.uvd_bad_ants = copy.deepcopy(sim.data)\n",
    "# bad Nfreq\n",
    "sim = hera_sim.Simulator(n_freq=50, n_times=10,\n",
    "                                    antennas=antennas,\n",
    "                                    integration_time=dt1,\n",
    "                                    channel_width=df1)\n",
    "#self.uvd_bad_Nfreq = copy.deepcopy(sim.data)\n",
    "sim.data.write_uvh5('uvd_bad_Nfreq.uvh5')\n",
    "# bad Ntimes\n",
    "sim = hera_sim.Simulator(n_freq=10, n_times=50,\n",
    "                                    antennas=antennas,\n",
    "                                    integration_time=dt1,\n",
    "                                    channel_width=df1)\n",
    "#self.uvd_bad_Ntimes = copy.deepcopy(sim.data)\n",
    "sim.data.write_uvh5('uvd_bad_Ntimes.uvh5')\n",
    "# bad integration time\n",
    "sim = hera_sim.Simulator(n_freq=10, n_times=10,\n",
    "                                    antennas=antennas,\n",
    "                                    integration_time=dt2,\n",
    "                                    channel_width=df1)\n",
    "#self.uvd_bad_int_time = copy.deepcopy(sim.data)\n",
    "sim.data.write_uvh5('uvd_bad_int_time.uvh5')\n",
    "# bad channel width\n",
    "sim = hera_sim.Simulator(n_freq=10, n_times=10,\n",
    "                                    antennas=antennas,\n",
    "                                    integration_time=dt1,\n",
    "                                    channel_width=df2)\n",
    "#self.uvd_bad_chan_width = copy.deepcopy(sim.data)\n",
    "sim.data.write_uvh5('uvd_bad_chan_width.uvh5')\n"
   ]
  },
  {
   "cell_type": "code",
   "execution_count": 4,
   "id": "88139071",
   "metadata": {},
   "outputs": [],
   "source": [
    "sim = hera_sim.Simulator(n_freq=10, n_times=10,\n",
    "                         antennas=offset_ants,\n",
    "                         integration_time=dt1,\n",
    "                         channel_width=df1)\n",
    "uvd_bad_bls = copy.deepcopy(sim.data)"
   ]
  },
  {
   "cell_type": "code",
   "execution_count": 5,
   "id": "6d5f58d2",
   "metadata": {},
   "outputs": [],
   "source": [
    "uvd_bad_bls.write_uvh5('uvd_bad_bls.uvh5')"
   ]
  },
  {
   "cell_type": "code",
   "execution_count": 6,
   "id": "dbba87d4",
   "metadata": {},
   "outputs": [],
   "source": [
    "sim = hera_sim.Simulator(n_freq=10, n_times=10,\n",
    "                                 antennas=bad_ants,\n",
    "                                 integration_time=dt1,\n",
    "                                 channel_width=df1)\n",
    "sim.data.write_uvh5('uvd_bad_ants.uvh5')"
   ]
  },
  {
   "cell_type": "code",
   "execution_count": 7,
   "id": "f14bb56b",
   "metadata": {},
   "outputs": [],
   "source": [
    "sim = hera_sim.Simulator(n_freq=50, n_times=10,\n",
    "                         antennas=antennas,\n",
    "                         integration_time=dt1,\n",
    "                         channel_width=df1)\n",
    "sim.data.write_uvh5('uvd_bad_Nfreq.uvh5')"
   ]
  },
  {
   "cell_type": "code",
   "execution_count": 8,
   "id": "df17ab8c",
   "metadata": {},
   "outputs": [],
   "source": [
    "        sim = hera_sim.Simulator(n_freq=10, n_times=50,\n",
    "                                 antennas=antennas,\n",
    "                                 integration_time=dt1,\n",
    "                                 channel_width=df1)"
   ]
  },
  {
   "cell_type": "code",
   "execution_count": 9,
   "id": "68f29c06",
   "metadata": {},
   "outputs": [],
   "source": [
    "sim.data.write_uvh5('uvd_bad_Ntimes.uvh5')"
   ]
  },
  {
   "cell_type": "code",
   "execution_count": 10,
   "id": "4dda33e9",
   "metadata": {},
   "outputs": [],
   "source": [
    "       sim = hera_sim.Simulator(n_freq=10, n_times=10,\n",
    "                                 antennas=antennas,\n",
    "                                 integration_time=dt2,\n",
    "                                 channel_width=df1)\n",
    "    \n",
    "sim.data.write_uvh5('uvd_bad_int_time.uvh5')"
   ]
  },
  {
   "cell_type": "code",
   "execution_count": 11,
   "id": "e92e0922",
   "metadata": {},
   "outputs": [],
   "source": [
    " sim = hera_sim.Simulator(n_freq=10, n_times=10,\n",
    "                                 antennas=antennas,\n",
    "                                 integration_time=dt1,\n",
    "                                 channel_width=df2)\n",
    "sim.data.write_uvh5('uvd_bad_chan_width.uvh5')"
   ]
  },
  {
   "cell_type": "code",
   "execution_count": null,
   "id": "f20f4855",
   "metadata": {},
   "outputs": [],
   "source": []
  }
 ],
 "metadata": {
  "kernelspec": {
   "display_name": "Python 3 (ipykernel)",
   "language": "python",
   "name": "python3"
  },
  "language_info": {
   "codemirror_mode": {
    "name": "ipython",
    "version": 3
   },
   "file_extension": ".py",
   "mimetype": "text/x-python",
   "name": "python",
   "nbconvert_exporter": "python",
   "pygments_lexer": "ipython3",
   "version": "3.8.10"
  }
 },
 "nbformat": 4,
 "nbformat_minor": 5
}
